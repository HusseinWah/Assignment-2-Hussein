{
 "cells": [
  {
   "cell_type": "code",
   "execution_count": 162,
   "id": "83e1a95e",
   "metadata": {},
   "outputs": [],
   "source": [
    "import numpy as np\n",
    "import pandas as pd\n",
    "import os\n",
    "from scipy import stats"
   ]
  },
  {
   "cell_type": "code",
   "execution_count": 163,
   "id": "544d6b0f",
   "metadata": {},
   "outputs": [
    {
     "data": {
      "text/plain": [
       "'C:\\\\Users\\\\Moataz Wahba\\\\Desktop'"
      ]
     },
     "execution_count": 163,
     "metadata": {},
     "output_type": "execute_result"
    }
   ],
   "source": [
    "os.getcwd()"
   ]
  },
  {
   "cell_type": "code",
   "execution_count": 164,
   "id": "b378a9f3",
   "metadata": {},
   "outputs": [],
   "source": [
    "os.chdir('C:\\\\Users\\\\Moataz Wahba\\\\Desktop\\\\')"
   ]
  },
  {
   "cell_type": "code",
   "execution_count": 165,
   "id": "9f24befe",
   "metadata": {},
   "outputs": [],
   "source": [
    "df=pd.read_csv('covid_data44.csv',encoding='latin-1')"
   ]
  },
  {
   "cell_type": "code",
   "execution_count": 166,
   "id": "ac2160c4",
   "metadata": {},
   "outputs": [
    {
     "data": {
      "text/html": [
       "<div>\n",
       "<style scoped>\n",
       "    .dataframe tbody tr th:only-of-type {\n",
       "        vertical-align: middle;\n",
       "    }\n",
       "\n",
       "    .dataframe tbody tr th {\n",
       "        vertical-align: top;\n",
       "    }\n",
       "\n",
       "    .dataframe thead th {\n",
       "        text-align: right;\n",
       "    }\n",
       "</style>\n",
       "<table border=\"1\" class=\"dataframe\">\n",
       "  <thead>\n",
       "    <tr style=\"text-align: right;\">\n",
       "      <th></th>\n",
       "      <th>date</th>\n",
       "      <th>iso3c</th>\n",
       "      <th>country</th>\n",
       "      <th>income</th>\n",
       "      <th>region</th>\n",
       "      <th>continent</th>\n",
       "      <th>dcases</th>\n",
       "      <th>ddeaths</th>\n",
       "      <th>population</th>\n",
       "      <th>weekdays</th>\n",
       "      <th>month</th>\n",
       "    </tr>\n",
       "  </thead>\n",
       "  <tbody>\n",
       "    <tr>\n",
       "      <th>0</th>\n",
       "      <td>2020-02-24</td>\n",
       "      <td>AFG</td>\n",
       "      <td>Afghanistan</td>\n",
       "      <td>Low income</td>\n",
       "      <td>South Asia</td>\n",
       "      <td>Asia</td>\n",
       "      <td>5</td>\n",
       "      <td>0</td>\n",
       "      <td>38041754</td>\n",
       "      <td>Mon</td>\n",
       "      <td>Feb</td>\n",
       "    </tr>\n",
       "    <tr>\n",
       "      <th>1</th>\n",
       "      <td>2020-02-25</td>\n",
       "      <td>AFG</td>\n",
       "      <td>Afghanistan</td>\n",
       "      <td>Low income</td>\n",
       "      <td>South Asia</td>\n",
       "      <td>Asia</td>\n",
       "      <td>0</td>\n",
       "      <td>0</td>\n",
       "      <td>38041754</td>\n",
       "      <td>Tue</td>\n",
       "      <td>Feb</td>\n",
       "    </tr>\n",
       "    <tr>\n",
       "      <th>2</th>\n",
       "      <td>2020-02-26</td>\n",
       "      <td>AFG</td>\n",
       "      <td>Afghanistan</td>\n",
       "      <td>Low income</td>\n",
       "      <td>South Asia</td>\n",
       "      <td>Asia</td>\n",
       "      <td>0</td>\n",
       "      <td>0</td>\n",
       "      <td>38041754</td>\n",
       "      <td>Wed</td>\n",
       "      <td>Feb</td>\n",
       "    </tr>\n",
       "    <tr>\n",
       "      <th>3</th>\n",
       "      <td>2020-02-27</td>\n",
       "      <td>AFG</td>\n",
       "      <td>Afghanistan</td>\n",
       "      <td>Low income</td>\n",
       "      <td>South Asia</td>\n",
       "      <td>Asia</td>\n",
       "      <td>0</td>\n",
       "      <td>0</td>\n",
       "      <td>38041754</td>\n",
       "      <td>Thu</td>\n",
       "      <td>Feb</td>\n",
       "    </tr>\n",
       "    <tr>\n",
       "      <th>4</th>\n",
       "      <td>2020-02-28</td>\n",
       "      <td>AFG</td>\n",
       "      <td>Afghanistan</td>\n",
       "      <td>Low income</td>\n",
       "      <td>South Asia</td>\n",
       "      <td>Asia</td>\n",
       "      <td>0</td>\n",
       "      <td>0</td>\n",
       "      <td>38041754</td>\n",
       "      <td>Fri</td>\n",
       "      <td>Feb</td>\n",
       "    </tr>\n",
       "    <tr>\n",
       "      <th>...</th>\n",
       "      <td>...</td>\n",
       "      <td>...</td>\n",
       "      <td>...</td>\n",
       "      <td>...</td>\n",
       "      <td>...</td>\n",
       "      <td>...</td>\n",
       "      <td>...</td>\n",
       "      <td>...</td>\n",
       "      <td>...</td>\n",
       "      <td>...</td>\n",
       "      <td>...</td>\n",
       "    </tr>\n",
       "    <tr>\n",
       "      <th>122838</th>\n",
       "      <td>2021-12-27</td>\n",
       "      <td>ZWE</td>\n",
       "      <td>Zimbabwe</td>\n",
       "      <td>Lower middle income</td>\n",
       "      <td>Sub-Saharan Africa</td>\n",
       "      <td>Africa</td>\n",
       "      <td>1098</td>\n",
       "      <td>17</td>\n",
       "      <td>14645468</td>\n",
       "      <td>Mon</td>\n",
       "      <td>Dec</td>\n",
       "    </tr>\n",
       "    <tr>\n",
       "      <th>122839</th>\n",
       "      <td>2021-12-28</td>\n",
       "      <td>ZWE</td>\n",
       "      <td>Zimbabwe</td>\n",
       "      <td>Lower middle income</td>\n",
       "      <td>Sub-Saharan Africa</td>\n",
       "      <td>Africa</td>\n",
       "      <td>2099</td>\n",
       "      <td>32</td>\n",
       "      <td>14645468</td>\n",
       "      <td>Tue</td>\n",
       "      <td>Dec</td>\n",
       "    </tr>\n",
       "    <tr>\n",
       "      <th>122840</th>\n",
       "      <td>2021-12-29</td>\n",
       "      <td>ZWE</td>\n",
       "      <td>Zimbabwe</td>\n",
       "      <td>Lower middle income</td>\n",
       "      <td>Sub-Saharan Africa</td>\n",
       "      <td>Africa</td>\n",
       "      <td>0</td>\n",
       "      <td>0</td>\n",
       "      <td>14645468</td>\n",
       "      <td>Wed</td>\n",
       "      <td>Dec</td>\n",
       "    </tr>\n",
       "    <tr>\n",
       "      <th>122841</th>\n",
       "      <td>2021-12-30</td>\n",
       "      <td>ZWE</td>\n",
       "      <td>Zimbabwe</td>\n",
       "      <td>Lower middle income</td>\n",
       "      <td>Sub-Saharan Africa</td>\n",
       "      <td>Africa</td>\n",
       "      <td>4180</td>\n",
       "      <td>57</td>\n",
       "      <td>14645468</td>\n",
       "      <td>Thu</td>\n",
       "      <td>Dec</td>\n",
       "    </tr>\n",
       "    <tr>\n",
       "      <th>122842</th>\n",
       "      <td>2021-12-31</td>\n",
       "      <td>ZWE</td>\n",
       "      <td>Zimbabwe</td>\n",
       "      <td>Lower middle income</td>\n",
       "      <td>Sub-Saharan Africa</td>\n",
       "      <td>Africa</td>\n",
       "      <td>1530</td>\n",
       "      <td>7</td>\n",
       "      <td>14645468</td>\n",
       "      <td>Fri</td>\n",
       "      <td>Dec</td>\n",
       "    </tr>\n",
       "  </tbody>\n",
       "</table>\n",
       "<p>122843 rows × 11 columns</p>\n",
       "</div>"
      ],
      "text/plain": [
       "              date iso3c      country               income  \\\n",
       "0       2020-02-24   AFG  Afghanistan           Low income   \n",
       "1       2020-02-25   AFG  Afghanistan           Low income   \n",
       "2       2020-02-26   AFG  Afghanistan           Low income   \n",
       "3       2020-02-27   AFG  Afghanistan           Low income   \n",
       "4       2020-02-28   AFG  Afghanistan           Low income   \n",
       "...            ...   ...          ...                  ...   \n",
       "122838  2021-12-27   ZWE     Zimbabwe  Lower middle income   \n",
       "122839  2021-12-28   ZWE     Zimbabwe  Lower middle income   \n",
       "122840  2021-12-29   ZWE     Zimbabwe  Lower middle income   \n",
       "122841  2021-12-30   ZWE     Zimbabwe  Lower middle income   \n",
       "122842  2021-12-31   ZWE     Zimbabwe  Lower middle income   \n",
       "\n",
       "                    region continent  dcases  ddeaths  population weekdays  \\\n",
       "0               South Asia      Asia       5        0    38041754      Mon   \n",
       "1               South Asia      Asia       0        0    38041754      Tue   \n",
       "2               South Asia      Asia       0        0    38041754      Wed   \n",
       "3               South Asia      Asia       0        0    38041754      Thu   \n",
       "4               South Asia      Asia       0        0    38041754      Fri   \n",
       "...                    ...       ...     ...      ...         ...      ...   \n",
       "122838  Sub-Saharan Africa    Africa    1098       17    14645468      Mon   \n",
       "122839  Sub-Saharan Africa    Africa    2099       32    14645468      Tue   \n",
       "122840  Sub-Saharan Africa    Africa       0        0    14645468      Wed   \n",
       "122841  Sub-Saharan Africa    Africa    4180       57    14645468      Thu   \n",
       "122842  Sub-Saharan Africa    Africa    1530        7    14645468      Fri   \n",
       "\n",
       "       month  \n",
       "0        Feb  \n",
       "1        Feb  \n",
       "2        Feb  \n",
       "3        Feb  \n",
       "4        Feb  \n",
       "...      ...  \n",
       "122838   Dec  \n",
       "122839   Dec  \n",
       "122840   Dec  \n",
       "122841   Dec  \n",
       "122842   Dec  \n",
       "\n",
       "[122843 rows x 11 columns]"
      ]
     },
     "execution_count": 166,
     "metadata": {},
     "output_type": "execute_result"
    }
   ],
   "source": [
    "df"
   ]
  },
  {
   "cell_type": "code",
   "execution_count": 167,
   "id": "e2a9ac7c",
   "metadata": {},
   "outputs": [],
   "source": [
    "from pandas.api.types import CategoricalDtype\n",
    "days=['Fri', 'Sat', 'Sun','Mon','Tue','Wed','Thu']\n",
    "dailydays = CategoricalDtype(categories=days, ordered=True)\n",
    "df['weekdays'] = df['weekdays'].astype(dailydays)"
   ]
  },
  {
   "cell_type": "code",
   "execution_count": 168,
   "id": "e9b5ebe7",
   "metadata": {},
   "outputs": [],
   "source": [
    "#the sum of daily cases and deaths"
   ]
  },
  {
   "cell_type": "code",
   "execution_count": 169,
   "id": "1eb0bce3",
   "metadata": {},
   "outputs": [],
   "source": [
    "dfsumofdaily=df[df['country']!='Angola']"
   ]
  },
  {
   "cell_type": "code",
   "execution_count": 170,
   "id": "9aae5ab8",
   "metadata": {},
   "outputs": [],
   "source": [
    "stats=dfsumofdaily.groupby(\"weekdays\").agg({\"dcases\": [np.sum, np.size],'ddeaths': [np.sum, np.size]})"
   ]
  },
  {
   "cell_type": "code",
   "execution_count": 171,
   "id": "8e08c163",
   "metadata": {},
   "outputs": [
    {
     "data": {
      "text/html": [
       "<div>\n",
       "<style scoped>\n",
       "    .dataframe tbody tr th:only-of-type {\n",
       "        vertical-align: middle;\n",
       "    }\n",
       "\n",
       "    .dataframe tbody tr th {\n",
       "        vertical-align: top;\n",
       "    }\n",
       "\n",
       "    .dataframe thead tr th {\n",
       "        text-align: left;\n",
       "    }\n",
       "\n",
       "    .dataframe thead tr:last-of-type th {\n",
       "        text-align: right;\n",
       "    }\n",
       "</style>\n",
       "<table border=\"1\" class=\"dataframe\">\n",
       "  <thead>\n",
       "    <tr>\n",
       "      <th></th>\n",
       "      <th colspan=\"2\" halign=\"left\">dcases</th>\n",
       "      <th colspan=\"2\" halign=\"left\">ddeaths</th>\n",
       "    </tr>\n",
       "    <tr>\n",
       "      <th></th>\n",
       "      <th>sum</th>\n",
       "      <th>size</th>\n",
       "      <th>sum</th>\n",
       "      <th>size</th>\n",
       "    </tr>\n",
       "    <tr>\n",
       "      <th>weekdays</th>\n",
       "      <th></th>\n",
       "      <th></th>\n",
       "      <th></th>\n",
       "      <th></th>\n",
       "    </tr>\n",
       "  </thead>\n",
       "  <tbody>\n",
       "    <tr>\n",
       "      <th>Fri</th>\n",
       "      <td>46595529</td>\n",
       "      <td>17540</td>\n",
       "      <td>845991</td>\n",
       "      <td>17540</td>\n",
       "    </tr>\n",
       "    <tr>\n",
       "      <th>Sat</th>\n",
       "      <td>37978947</td>\n",
       "      <td>17379</td>\n",
       "      <td>703175</td>\n",
       "      <td>17379</td>\n",
       "    </tr>\n",
       "    <tr>\n",
       "      <th>Sun</th>\n",
       "      <td>32401410</td>\n",
       "      <td>17403</td>\n",
       "      <td>557129</td>\n",
       "      <td>17403</td>\n",
       "    </tr>\n",
       "    <tr>\n",
       "      <th>Mon</th>\n",
       "      <td>37077697</td>\n",
       "      <td>17428</td>\n",
       "      <td>664765</td>\n",
       "      <td>17428</td>\n",
       "    </tr>\n",
       "    <tr>\n",
       "      <th>Tue</th>\n",
       "      <td>41888005</td>\n",
       "      <td>17451</td>\n",
       "      <td>891663</td>\n",
       "      <td>17451</td>\n",
       "    </tr>\n",
       "    <tr>\n",
       "      <th>Wed</th>\n",
       "      <td>45725015</td>\n",
       "      <td>17485</td>\n",
       "      <td>902270</td>\n",
       "      <td>17485</td>\n",
       "    </tr>\n",
       "    <tr>\n",
       "      <th>Thu</th>\n",
       "      <td>47390198</td>\n",
       "      <td>17505</td>\n",
       "      <td>874322</td>\n",
       "      <td>17505</td>\n",
       "    </tr>\n",
       "  </tbody>\n",
       "</table>\n",
       "</div>"
      ],
      "text/plain": [
       "            dcases        ddeaths       \n",
       "               sum   size     sum   size\n",
       "weekdays                                \n",
       "Fri       46595529  17540  845991  17540\n",
       "Sat       37978947  17379  703175  17379\n",
       "Sun       32401410  17403  557129  17403\n",
       "Mon       37077697  17428  664765  17428\n",
       "Tue       41888005  17451  891663  17451\n",
       "Wed       45725015  17485  902270  17485\n",
       "Thu       47390198  17505  874322  17505"
      ]
     },
     "execution_count": 171,
     "metadata": {},
     "output_type": "execute_result"
    }
   ],
   "source": [
    "stats"
   ]
  },
  {
   "cell_type": "code",
   "execution_count": 172,
   "id": "f6f72509",
   "metadata": {},
   "outputs": [],
   "source": [
    "#the ratio of deaths to cases"
   ]
  },
  {
   "cell_type": "code",
   "execution_count": 173,
   "id": "4cf70bb9",
   "metadata": {},
   "outputs": [],
   "source": [
    "cases=df['dcases'].sum()"
   ]
  },
  {
   "cell_type": "code",
   "execution_count": 174,
   "id": "a00945d6",
   "metadata": {},
   "outputs": [],
   "source": [
    "deaths=df['ddeaths'].sum()"
   ]
  },
  {
   "cell_type": "code",
   "execution_count": 175,
   "id": "7322f246",
   "metadata": {},
   "outputs": [],
   "source": [
    "ratio_between_cases_and_deaths= deaths/cases"
   ]
  },
  {
   "cell_type": "code",
   "execution_count": 176,
   "id": "3e4a5733",
   "metadata": {},
   "outputs": [
    {
     "data": {
      "text/plain": [
       "0.01881828256955733"
      ]
     },
     "execution_count": 176,
     "metadata": {},
     "output_type": "execute_result"
    }
   ],
   "source": [
    "ratio_between_cases_and_deaths"
   ]
  },
  {
   "cell_type": "code",
   "execution_count": 177,
   "id": "5e2beaa5",
   "metadata": {},
   "outputs": [
    {
     "data": {
      "text/html": [
       "<div>\n",
       "<style scoped>\n",
       "    .dataframe tbody tr th:only-of-type {\n",
       "        vertical-align: middle;\n",
       "    }\n",
       "\n",
       "    .dataframe tbody tr th {\n",
       "        vertical-align: top;\n",
       "    }\n",
       "\n",
       "    .dataframe thead th {\n",
       "        text-align: right;\n",
       "    }\n",
       "</style>\n",
       "<table border=\"1\" class=\"dataframe\">\n",
       "  <thead>\n",
       "    <tr style=\"text-align: right;\">\n",
       "      <th></th>\n",
       "      <th>date</th>\n",
       "      <th>iso3c</th>\n",
       "      <th>country</th>\n",
       "      <th>income</th>\n",
       "      <th>region</th>\n",
       "      <th>continent</th>\n",
       "      <th>dcases</th>\n",
       "      <th>ddeaths</th>\n",
       "      <th>population</th>\n",
       "      <th>weekdays</th>\n",
       "      <th>month</th>\n",
       "      <th>method1year</th>\n",
       "    </tr>\n",
       "  </thead>\n",
       "  <tbody>\n",
       "    <tr>\n",
       "      <th>0</th>\n",
       "      <td>2020-02-24</td>\n",
       "      <td>AFG</td>\n",
       "      <td>Afghanistan</td>\n",
       "      <td>Low income</td>\n",
       "      <td>South Asia</td>\n",
       "      <td>Asia</td>\n",
       "      <td>5</td>\n",
       "      <td>0</td>\n",
       "      <td>38041754</td>\n",
       "      <td>Mon</td>\n",
       "      <td>Feb</td>\n",
       "      <td>2020</td>\n",
       "    </tr>\n",
       "    <tr>\n",
       "      <th>1</th>\n",
       "      <td>2020-02-25</td>\n",
       "      <td>AFG</td>\n",
       "      <td>Afghanistan</td>\n",
       "      <td>Low income</td>\n",
       "      <td>South Asia</td>\n",
       "      <td>Asia</td>\n",
       "      <td>0</td>\n",
       "      <td>0</td>\n",
       "      <td>38041754</td>\n",
       "      <td>Tue</td>\n",
       "      <td>Feb</td>\n",
       "      <td>2020</td>\n",
       "    </tr>\n",
       "    <tr>\n",
       "      <th>2</th>\n",
       "      <td>2020-02-26</td>\n",
       "      <td>AFG</td>\n",
       "      <td>Afghanistan</td>\n",
       "      <td>Low income</td>\n",
       "      <td>South Asia</td>\n",
       "      <td>Asia</td>\n",
       "      <td>0</td>\n",
       "      <td>0</td>\n",
       "      <td>38041754</td>\n",
       "      <td>Wed</td>\n",
       "      <td>Feb</td>\n",
       "      <td>2020</td>\n",
       "    </tr>\n",
       "    <tr>\n",
       "      <th>3</th>\n",
       "      <td>2020-02-27</td>\n",
       "      <td>AFG</td>\n",
       "      <td>Afghanistan</td>\n",
       "      <td>Low income</td>\n",
       "      <td>South Asia</td>\n",
       "      <td>Asia</td>\n",
       "      <td>0</td>\n",
       "      <td>0</td>\n",
       "      <td>38041754</td>\n",
       "      <td>Thu</td>\n",
       "      <td>Feb</td>\n",
       "      <td>2020</td>\n",
       "    </tr>\n",
       "    <tr>\n",
       "      <th>4</th>\n",
       "      <td>2020-02-28</td>\n",
       "      <td>AFG</td>\n",
       "      <td>Afghanistan</td>\n",
       "      <td>Low income</td>\n",
       "      <td>South Asia</td>\n",
       "      <td>Asia</td>\n",
       "      <td>0</td>\n",
       "      <td>0</td>\n",
       "      <td>38041754</td>\n",
       "      <td>Fri</td>\n",
       "      <td>Feb</td>\n",
       "      <td>2020</td>\n",
       "    </tr>\n",
       "    <tr>\n",
       "      <th>...</th>\n",
       "      <td>...</td>\n",
       "      <td>...</td>\n",
       "      <td>...</td>\n",
       "      <td>...</td>\n",
       "      <td>...</td>\n",
       "      <td>...</td>\n",
       "      <td>...</td>\n",
       "      <td>...</td>\n",
       "      <td>...</td>\n",
       "      <td>...</td>\n",
       "      <td>...</td>\n",
       "      <td>...</td>\n",
       "    </tr>\n",
       "    <tr>\n",
       "      <th>122838</th>\n",
       "      <td>2021-12-27</td>\n",
       "      <td>ZWE</td>\n",
       "      <td>Zimbabwe</td>\n",
       "      <td>Lower middle income</td>\n",
       "      <td>Sub-Saharan Africa</td>\n",
       "      <td>Africa</td>\n",
       "      <td>1098</td>\n",
       "      <td>17</td>\n",
       "      <td>14645468</td>\n",
       "      <td>Mon</td>\n",
       "      <td>Dec</td>\n",
       "      <td>2021</td>\n",
       "    </tr>\n",
       "    <tr>\n",
       "      <th>122839</th>\n",
       "      <td>2021-12-28</td>\n",
       "      <td>ZWE</td>\n",
       "      <td>Zimbabwe</td>\n",
       "      <td>Lower middle income</td>\n",
       "      <td>Sub-Saharan Africa</td>\n",
       "      <td>Africa</td>\n",
       "      <td>2099</td>\n",
       "      <td>32</td>\n",
       "      <td>14645468</td>\n",
       "      <td>Tue</td>\n",
       "      <td>Dec</td>\n",
       "      <td>2021</td>\n",
       "    </tr>\n",
       "    <tr>\n",
       "      <th>122840</th>\n",
       "      <td>2021-12-29</td>\n",
       "      <td>ZWE</td>\n",
       "      <td>Zimbabwe</td>\n",
       "      <td>Lower middle income</td>\n",
       "      <td>Sub-Saharan Africa</td>\n",
       "      <td>Africa</td>\n",
       "      <td>0</td>\n",
       "      <td>0</td>\n",
       "      <td>14645468</td>\n",
       "      <td>Wed</td>\n",
       "      <td>Dec</td>\n",
       "      <td>2021</td>\n",
       "    </tr>\n",
       "    <tr>\n",
       "      <th>122841</th>\n",
       "      <td>2021-12-30</td>\n",
       "      <td>ZWE</td>\n",
       "      <td>Zimbabwe</td>\n",
       "      <td>Lower middle income</td>\n",
       "      <td>Sub-Saharan Africa</td>\n",
       "      <td>Africa</td>\n",
       "      <td>4180</td>\n",
       "      <td>57</td>\n",
       "      <td>14645468</td>\n",
       "      <td>Thu</td>\n",
       "      <td>Dec</td>\n",
       "      <td>2021</td>\n",
       "    </tr>\n",
       "    <tr>\n",
       "      <th>122842</th>\n",
       "      <td>2021-12-31</td>\n",
       "      <td>ZWE</td>\n",
       "      <td>Zimbabwe</td>\n",
       "      <td>Lower middle income</td>\n",
       "      <td>Sub-Saharan Africa</td>\n",
       "      <td>Africa</td>\n",
       "      <td>1530</td>\n",
       "      <td>7</td>\n",
       "      <td>14645468</td>\n",
       "      <td>Fri</td>\n",
       "      <td>Dec</td>\n",
       "      <td>2021</td>\n",
       "    </tr>\n",
       "  </tbody>\n",
       "</table>\n",
       "<p>122843 rows × 12 columns</p>\n",
       "</div>"
      ],
      "text/plain": [
       "              date iso3c      country               income  \\\n",
       "0       2020-02-24   AFG  Afghanistan           Low income   \n",
       "1       2020-02-25   AFG  Afghanistan           Low income   \n",
       "2       2020-02-26   AFG  Afghanistan           Low income   \n",
       "3       2020-02-27   AFG  Afghanistan           Low income   \n",
       "4       2020-02-28   AFG  Afghanistan           Low income   \n",
       "...            ...   ...          ...                  ...   \n",
       "122838  2021-12-27   ZWE     Zimbabwe  Lower middle income   \n",
       "122839  2021-12-28   ZWE     Zimbabwe  Lower middle income   \n",
       "122840  2021-12-29   ZWE     Zimbabwe  Lower middle income   \n",
       "122841  2021-12-30   ZWE     Zimbabwe  Lower middle income   \n",
       "122842  2021-12-31   ZWE     Zimbabwe  Lower middle income   \n",
       "\n",
       "                    region continent  dcases  ddeaths  population weekdays  \\\n",
       "0               South Asia      Asia       5        0    38041754      Mon   \n",
       "1               South Asia      Asia       0        0    38041754      Tue   \n",
       "2               South Asia      Asia       0        0    38041754      Wed   \n",
       "3               South Asia      Asia       0        0    38041754      Thu   \n",
       "4               South Asia      Asia       0        0    38041754      Fri   \n",
       "...                    ...       ...     ...      ...         ...      ...   \n",
       "122838  Sub-Saharan Africa    Africa    1098       17    14645468      Mon   \n",
       "122839  Sub-Saharan Africa    Africa    2099       32    14645468      Tue   \n",
       "122840  Sub-Saharan Africa    Africa       0        0    14645468      Wed   \n",
       "122841  Sub-Saharan Africa    Africa    4180       57    14645468      Thu   \n",
       "122842  Sub-Saharan Africa    Africa    1530        7    14645468      Fri   \n",
       "\n",
       "       month method1year  \n",
       "0        Feb        2020  \n",
       "1        Feb        2020  \n",
       "2        Feb        2020  \n",
       "3        Feb        2020  \n",
       "4        Feb        2020  \n",
       "...      ...         ...  \n",
       "122838   Dec        2021  \n",
       "122839   Dec        2021  \n",
       "122840   Dec        2021  \n",
       "122841   Dec        2021  \n",
       "122842   Dec        2021  \n",
       "\n",
       "[122843 rows x 12 columns]"
      ]
     },
     "execution_count": 177,
     "metadata": {},
     "output_type": "execute_result"
    }
   ],
   "source": [
    "start_date1='2020-01-01'\n",
    "end_date1='2020-12-31'\n",
    "start_date2='2021-01-01'\n",
    "end_date2='2021-12-31'\n",
    "c20=(df[\"date\"]>=start_date1) & (df[\"date\"]<=end_date1)\n",
    "c21=(df[\"date\"]>=start_date2) & (df[\"date\"]<=end_date2)\n",
    "conditions=[(c20==True),(c21==True)]\n",
    "values=[\"2020\",\"2021\"]\n",
    "df[\"method1year\"]=np.select(conditions,values)\n",
    "df"
   ]
  },
  {
   "cell_type": "code",
   "execution_count": 178,
   "id": "2aef65db",
   "metadata": {},
   "outputs": [
    {
     "data": {
      "text/plain": [
       "Europe & Central Asia         34358\n",
       "Sub-Saharan Africa            30674\n",
       "Latin America & Caribbean     21795\n",
       "East Asia & Pacific           15056\n",
       "Middle East & North Africa    14080\n",
       "South Asia                     5461\n",
       "North America(region)          1419\n",
       "Name: region, dtype: int64"
      ]
     },
     "execution_count": 178,
     "metadata": {},
     "output_type": "execute_result"
    }
   ],
   "source": [
    "df['region'].value_counts()"
   ]
  },
  {
   "cell_type": "code",
   "execution_count": 179,
   "id": "3d28aa29",
   "metadata": {},
   "outputs": [],
   "source": [
    "from pandas.api.types import CategoricalDtype\n",
    "regions=['Europe & Central Asia','Sub-Saharan Africa ','Latin America & Caribbean ','East Asia & Pacific','Middle East & North Africa','South Asia','North America(region)']\n",
    "regionss = CategoricalDtype(categories=regions, ordered=True)\n",
    "df['region'] = df['region'].astype(regionss)"
   ]
  },
  {
   "cell_type": "code",
   "execution_count": 180,
   "id": "eb1bd629",
   "metadata": {},
   "outputs": [],
   "source": [
    "stats=dfsumofdaily.groupby(\"region\").agg({\"dcases\": [np.sum],'ddeaths': [np.sum]})"
   ]
  },
  {
   "cell_type": "code",
   "execution_count": 181,
   "id": "c3f5e0f9",
   "metadata": {},
   "outputs": [
    {
     "data": {
      "text/html": [
       "<div>\n",
       "<style scoped>\n",
       "    .dataframe tbody tr th:only-of-type {\n",
       "        vertical-align: middle;\n",
       "    }\n",
       "\n",
       "    .dataframe tbody tr th {\n",
       "        vertical-align: top;\n",
       "    }\n",
       "\n",
       "    .dataframe thead tr th {\n",
       "        text-align: left;\n",
       "    }\n",
       "\n",
       "    .dataframe thead tr:last-of-type th {\n",
       "        text-align: right;\n",
       "    }\n",
       "</style>\n",
       "<table border=\"1\" class=\"dataframe\">\n",
       "  <thead>\n",
       "    <tr>\n",
       "      <th></th>\n",
       "      <th>dcases</th>\n",
       "      <th>ddeaths</th>\n",
       "    </tr>\n",
       "    <tr>\n",
       "      <th></th>\n",
       "      <th>sum</th>\n",
       "      <th>sum</th>\n",
       "    </tr>\n",
       "    <tr>\n",
       "      <th>region</th>\n",
       "      <th></th>\n",
       "      <th></th>\n",
       "    </tr>\n",
       "  </thead>\n",
       "  <tbody>\n",
       "    <tr>\n",
       "      <th>East Asia &amp; Pacific</th>\n",
       "      <td>18601015</td>\n",
       "      <td>339407</td>\n",
       "    </tr>\n",
       "    <tr>\n",
       "      <th>Europe &amp; Central Asia</th>\n",
       "      <td>101999736</td>\n",
       "      <td>1667619</td>\n",
       "    </tr>\n",
       "    <tr>\n",
       "      <th>Latin America &amp; Caribbean</th>\n",
       "      <td>47719378</td>\n",
       "      <td>1558734</td>\n",
       "    </tr>\n",
       "    <tr>\n",
       "      <th>Middle East &amp; North Africa</th>\n",
       "      <td>17316998</td>\n",
       "      <td>290050</td>\n",
       "    </tr>\n",
       "    <tr>\n",
       "      <th>North America(region)</th>\n",
       "      <td>57033368</td>\n",
       "      <td>858478</td>\n",
       "    </tr>\n",
       "    <tr>\n",
       "      <th>South Asia</th>\n",
       "      <td>39415174</td>\n",
       "      <td>572686</td>\n",
       "    </tr>\n",
       "    <tr>\n",
       "      <th>Sub-Saharan Africa</th>\n",
       "      <td>6971132</td>\n",
       "      <td>152341</td>\n",
       "    </tr>\n",
       "  </tbody>\n",
       "</table>\n",
       "</div>"
      ],
      "text/plain": [
       "                               dcases  ddeaths\n",
       "                                  sum      sum\n",
       "region                                        \n",
       "East Asia & Pacific          18601015   339407\n",
       "Europe & Central Asia       101999736  1667619\n",
       "Latin America & Caribbean    47719378  1558734\n",
       "Middle East & North Africa   17316998   290050\n",
       "North America(region)        57033368   858478\n",
       "South Asia                   39415174   572686\n",
       "Sub-Saharan Africa            6971132   152341"
      ]
     },
     "execution_count": 181,
     "metadata": {},
     "output_type": "execute_result"
    }
   ],
   "source": [
    "stats"
   ]
  },
  {
   "cell_type": "code",
   "execution_count": 182,
   "id": "4d5d6574",
   "metadata": {},
   "outputs": [
    {
     "data": {
      "text/plain": [
       "0         2020\n",
       "1         2020\n",
       "2         2020\n",
       "3         2020\n",
       "4         2020\n",
       "          ... \n",
       "122838    2021\n",
       "122839    2021\n",
       "122840    2021\n",
       "122841    2021\n",
       "122842    2021\n",
       "Name: year, Length: 122843, dtype: int64"
      ]
     },
     "execution_count": 182,
     "metadata": {},
     "output_type": "execute_result"
    }
   ],
   "source": [
    "df['year'] = pd. DatetimeIndex(df['date']). year\n",
    "df['year']"
   ]
  },
  {
   "cell_type": "code",
   "execution_count": 183,
   "id": "3481fdc4",
   "metadata": {},
   "outputs": [],
   "source": [
    "from pandas.api.types import CategoricalDtype\n",
    "cats=['2020','2021']\n",
    "cat_type = CategoricalDtype(categories=cats, ordered=True)\n",
    "df['method1year'] = df['method1year'].astype(cat_type)"
   ]
  },
  {
   "cell_type": "code",
   "execution_count": 184,
   "id": "3aa91773",
   "metadata": {},
   "outputs": [],
   "source": [
    "dfafrica=df[df['continent']=='Africa']"
   ]
  },
  {
   "cell_type": "code",
   "execution_count": 185,
   "id": "8771735d",
   "metadata": {},
   "outputs": [
    {
     "data": {
      "text/html": [
       "<div>\n",
       "<style scoped>\n",
       "    .dataframe tbody tr th:only-of-type {\n",
       "        vertical-align: middle;\n",
       "    }\n",
       "\n",
       "    .dataframe tbody tr th {\n",
       "        vertical-align: top;\n",
       "    }\n",
       "\n",
       "    .dataframe thead tr th {\n",
       "        text-align: left;\n",
       "    }\n",
       "\n",
       "    .dataframe thead tr:last-of-type th {\n",
       "        text-align: right;\n",
       "    }\n",
       "</style>\n",
       "<table border=\"1\" class=\"dataframe\">\n",
       "  <thead>\n",
       "    <tr>\n",
       "      <th></th>\n",
       "      <th colspan=\"3\" halign=\"left\">dcases</th>\n",
       "    </tr>\n",
       "    <tr>\n",
       "      <th></th>\n",
       "      <th>sum</th>\n",
       "      <th>mean</th>\n",
       "      <th>std</th>\n",
       "    </tr>\n",
       "    <tr>\n",
       "      <th>method1year</th>\n",
       "      <th></th>\n",
       "      <th></th>\n",
       "      <th></th>\n",
       "    </tr>\n",
       "  </thead>\n",
       "  <tbody>\n",
       "    <tr>\n",
       "      <th>2020</th>\n",
       "      <td>2759602</td>\n",
       "      <td>179.989695</td>\n",
       "      <td>812.148803</td>\n",
       "    </tr>\n",
       "    <tr>\n",
       "      <th>2021</th>\n",
       "      <td>6989318</td>\n",
       "      <td>361.298423</td>\n",
       "      <td>1454.828779</td>\n",
       "    </tr>\n",
       "  </tbody>\n",
       "</table>\n",
       "</div>"
      ],
      "text/plain": [
       "              dcases                         \n",
       "                 sum        mean          std\n",
       "method1year                                  \n",
       "2020         2759602  179.989695   812.148803\n",
       "2021         6989318  361.298423  1454.828779"
      ]
     },
     "execution_count": 185,
     "metadata": {},
     "output_type": "execute_result"
    }
   ],
   "source": [
    "stats=dfafrica.groupby(\"method1year\").agg({\"dcases\": [np.sum, np.mean,np.std]})\n",
    "stats"
   ]
  },
  {
   "cell_type": "code",
   "execution_count": 186,
   "id": "298be2fb",
   "metadata": {},
   "outputs": [
    {
     "data": {
      "text/plain": [
       "array([[2.75960200e+06, 1.79989695e+02, 8.12148803e+02],\n",
       "       [6.98931800e+06, 3.61298423e+02, 1.45482878e+03]])"
      ]
     },
     "execution_count": 186,
     "metadata": {},
     "output_type": "execute_result"
    }
   ],
   "source": [
    "x= np.array(stats\n",
    "           )\n",
    "x"
   ]
  },
  {
   "cell_type": "code",
   "execution_count": 187,
   "id": "51153d6b",
   "metadata": {},
   "outputs": [
    {
     "data": {
      "text/plain": [
       "CategoricalIndex(['2020', '2021'], categories=['2020', '2021'], ordered=True, dtype='category', name='method1year')"
      ]
     },
     "execution_count": 187,
     "metadata": {},
     "output_type": "execute_result"
    }
   ],
   "source": [
    "import numpy as np\n",
    "import scipy \n",
    "stats.index"
   ]
  },
  {
   "cell_type": "code",
   "execution_count": 188,
   "id": "2e7d8bf2",
   "metadata": {},
   "outputs": [
    {
     "data": {
      "text/plain": [
       "[2759614.4049200676, 6989336.587425372]"
      ]
     },
     "execution_count": 188,
     "metadata": {},
     "output_type": "execute_result"
    }
   ],
   "source": [
    "ci95_hi = []\n",
    "ci95_lo = []\n",
    "for i in stats.index:\n",
    "    m, s, n = stats.loc[i]\n",
    "    x=scipy.stats.t.interval(.95, n-1, m,s/np.sqrt(n-1))\n",
    "    ci95_hi.append(x[1])\n",
    "    ci95_lo.append(x[0])\n",
    "ci95_hi"
   ]
  },
  {
   "cell_type": "code",
   "execution_count": 189,
   "id": "5b715d02",
   "metadata": {},
   "outputs": [
    {
     "data": {
      "text/plain": [
       "[2759589.5950799324, 6989299.412574628]"
      ]
     },
     "execution_count": 189,
     "metadata": {},
     "output_type": "execute_result"
    }
   ],
   "source": [
    "ci95_lo"
   ]
  },
  {
   "cell_type": "code",
   "execution_count": 190,
   "id": "f994082a",
   "metadata": {},
   "outputs": [
    {
     "name": "stdout",
     "output_type": "stream",
     "text": [
      "              dcases                                ci95_hi       ci95_lo\n",
      "                 sum        mean          std                            \n",
      "method1year                                                              \n",
      "2020         2759602  179.989695   812.148803  2.759614e+06  2.759590e+06\n",
      "2021         6989318  361.298423  1454.828779  6.989337e+06  6.989299e+06\n"
     ]
    }
   ],
   "source": [
    "stats['ci95_hi'] = ci95_hi\n",
    "stats['ci95_lo'] = ci95_lo\n",
    "print(stats)"
   ]
  },
  {
   "cell_type": "code",
   "execution_count": 191,
   "id": "a403ad5f",
   "metadata": {},
   "outputs": [
    {
     "data": {
      "text/html": [
       "<div>\n",
       "<style scoped>\n",
       "    .dataframe tbody tr th:only-of-type {\n",
       "        vertical-align: middle;\n",
       "    }\n",
       "\n",
       "    .dataframe tbody tr th {\n",
       "        vertical-align: top;\n",
       "    }\n",
       "\n",
       "    .dataframe thead tr th {\n",
       "        text-align: left;\n",
       "    }\n",
       "\n",
       "    .dataframe thead tr:last-of-type th {\n",
       "        text-align: right;\n",
       "    }\n",
       "</style>\n",
       "<table border=\"1\" class=\"dataframe\">\n",
       "  <thead>\n",
       "    <tr>\n",
       "      <th></th>\n",
       "      <th colspan=\"3\" halign=\"left\">dcases</th>\n",
       "      <th>ci95_hi</th>\n",
       "      <th>ci95_lo</th>\n",
       "    </tr>\n",
       "    <tr>\n",
       "      <th></th>\n",
       "      <th>sum</th>\n",
       "      <th>mean</th>\n",
       "      <th>std</th>\n",
       "      <th></th>\n",
       "      <th></th>\n",
       "    </tr>\n",
       "    <tr>\n",
       "      <th>method1year</th>\n",
       "      <th></th>\n",
       "      <th></th>\n",
       "      <th></th>\n",
       "      <th></th>\n",
       "      <th></th>\n",
       "    </tr>\n",
       "  </thead>\n",
       "  <tbody>\n",
       "    <tr>\n",
       "      <th>2020</th>\n",
       "      <td>2759602</td>\n",
       "      <td>179.989695</td>\n",
       "      <td>812.148803</td>\n",
       "      <td>2.759614e+06</td>\n",
       "      <td>2.759590e+06</td>\n",
       "    </tr>\n",
       "    <tr>\n",
       "      <th>2021</th>\n",
       "      <td>6989318</td>\n",
       "      <td>361.298423</td>\n",
       "      <td>1454.828779</td>\n",
       "      <td>6.989337e+06</td>\n",
       "      <td>6.989299e+06</td>\n",
       "    </tr>\n",
       "  </tbody>\n",
       "</table>\n",
       "</div>"
      ],
      "text/plain": [
       "              dcases                                ci95_hi       ci95_lo\n",
       "                 sum        mean          std                            \n",
       "method1year                                                              \n",
       "2020         2759602  179.989695   812.148803  2.759614e+06  2.759590e+06\n",
       "2021         6989318  361.298423  1454.828779  6.989337e+06  6.989299e+06"
      ]
     },
     "execution_count": 191,
     "metadata": {},
     "output_type": "execute_result"
    }
   ],
   "source": [
    "df_ci= pd.DataFrame(stats)\n",
    "df_ci"
   ]
  },
  {
   "cell_type": "code",
   "execution_count": 192,
   "id": "4795f3b9",
   "metadata": {},
   "outputs": [
    {
     "data": {
      "text/html": [
       "<div>\n",
       "<style scoped>\n",
       "    .dataframe tbody tr th:only-of-type {\n",
       "        vertical-align: middle;\n",
       "    }\n",
       "\n",
       "    .dataframe tbody tr th {\n",
       "        vertical-align: top;\n",
       "    }\n",
       "\n",
       "    .dataframe thead tr th {\n",
       "        text-align: left;\n",
       "    }\n",
       "\n",
       "    .dataframe thead tr:last-of-type th {\n",
       "        text-align: right;\n",
       "    }\n",
       "</style>\n",
       "<table border=\"1\" class=\"dataframe\">\n",
       "  <thead>\n",
       "    <tr>\n",
       "      <th></th>\n",
       "      <th colspan=\"3\" halign=\"left\">dcases</th>\n",
       "      <th>ci95_hi</th>\n",
       "      <th>ci95_lo</th>\n",
       "      <th>method1year</th>\n",
       "    </tr>\n",
       "    <tr>\n",
       "      <th></th>\n",
       "      <th>sum</th>\n",
       "      <th>mean</th>\n",
       "      <th>std</th>\n",
       "      <th></th>\n",
       "      <th></th>\n",
       "      <th></th>\n",
       "    </tr>\n",
       "    <tr>\n",
       "      <th>method1year</th>\n",
       "      <th></th>\n",
       "      <th></th>\n",
       "      <th></th>\n",
       "      <th></th>\n",
       "      <th></th>\n",
       "      <th></th>\n",
       "    </tr>\n",
       "  </thead>\n",
       "  <tbody>\n",
       "    <tr>\n",
       "      <th>2020</th>\n",
       "      <td>2759602</td>\n",
       "      <td>179.989695</td>\n",
       "      <td>812.148803</td>\n",
       "      <td>2.759614e+06</td>\n",
       "      <td>2.759590e+06</td>\n",
       "      <td>2020</td>\n",
       "    </tr>\n",
       "    <tr>\n",
       "      <th>2021</th>\n",
       "      <td>6989318</td>\n",
       "      <td>361.298423</td>\n",
       "      <td>1454.828779</td>\n",
       "      <td>6.989337e+06</td>\n",
       "      <td>6.989299e+06</td>\n",
       "      <td>2021</td>\n",
       "    </tr>\n",
       "  </tbody>\n",
       "</table>\n",
       "</div>"
      ],
      "text/plain": [
       "              dcases                                ci95_hi       ci95_lo  \\\n",
       "                 sum        mean          std                               \n",
       "method1year                                                                 \n",
       "2020         2759602  179.989695   812.148803  2.759614e+06  2.759590e+06   \n",
       "2021         6989318  361.298423  1454.828779  6.989337e+06  6.989299e+06   \n",
       "\n",
       "            method1year  \n",
       "                         \n",
       "method1year              \n",
       "2020               2020  \n",
       "2021               2021  "
      ]
     },
     "execution_count": 192,
     "metadata": {},
     "output_type": "execute_result"
    }
   ],
   "source": [
    "df_ci['method1year']=df_ci.index\n",
    "df_ci"
   ]
  },
  {
   "cell_type": "code",
   "execution_count": 193,
   "id": "10dae7b0",
   "metadata": {
    "collapsed": true
   },
   "outputs": [
    {
     "data": {
      "text/plain": [
       "MultiIndex([(     'dcases',  'sum'),\n",
       "            (     'dcases', 'mean'),\n",
       "            (     'dcases',  'std'),\n",
       "            (    'ci95_hi',     ''),\n",
       "            (    'ci95_lo',     ''),\n",
       "            ('method1year',     '')],\n",
       "           )"
      ]
     },
     "execution_count": 193,
     "metadata": {},
     "output_type": "execute_result"
    }
   ],
   "source": [
    "df_ci.columns\n",
    "\n",
    "\n",
    "import matplotlib.pyplot as plt\n",
    "for lb,ub,y in zip(df_ci['ci95_lo'],df_ci['ci95_hi'],range(len(df_ci))):\n",
    "    plt.plot((lb,ub),(y,y),'ro-')\n",
    "plt.yticks(range(len(df_ci)),list(df_ci['method1year']))\n"
   ]
  },
  {
   "cell_type": "code",
   "execution_count": 203,
   "id": "259610db",
   "metadata": {},
   "outputs": [],
   "source": [
    "from pandas.api.types import CategoricalDtype\n",
    "cats=['Africa','Asia','Europe','North America(continent)','South America(continent)']\n",
    "cat_type = CategoricalDtype(categories=cats, ordered=True)\n",
    "df['continent'] = df['continent'].astype(cat_type)"
   ]
  },
  {
   "cell_type": "code",
   "execution_count": 204,
   "id": "f67154d1",
   "metadata": {},
   "outputs": [
    {
     "data": {
      "text/plain": [
       "Africa                      34677\n",
       "Asia                        31103\n",
       "Europe                      29103\n",
       "North America(continent)    15229\n",
       "South America(continent)     7985\n",
       "Name: continent, dtype: int64"
      ]
     },
     "execution_count": 204,
     "metadata": {},
     "output_type": "execute_result"
    }
   ],
   "source": [
    "df['continent'].value_counts()"
   ]
  },
  {
   "cell_type": "code",
   "execution_count": 205,
   "id": "4afbd59d",
   "metadata": {},
   "outputs": [
    {
     "data": {
      "text/html": [
       "<div>\n",
       "<style scoped>\n",
       "    .dataframe tbody tr th:only-of-type {\n",
       "        vertical-align: middle;\n",
       "    }\n",
       "\n",
       "    .dataframe tbody tr th {\n",
       "        vertical-align: top;\n",
       "    }\n",
       "\n",
       "    .dataframe thead tr th {\n",
       "        text-align: left;\n",
       "    }\n",
       "\n",
       "    .dataframe thead tr:last-of-type th {\n",
       "        text-align: right;\n",
       "    }\n",
       "</style>\n",
       "<table border=\"1\" class=\"dataframe\">\n",
       "  <thead>\n",
       "    <tr>\n",
       "      <th></th>\n",
       "      <th colspan=\"3\" halign=\"left\">dcases</th>\n",
       "    </tr>\n",
       "    <tr>\n",
       "      <th></th>\n",
       "      <th>mean</th>\n",
       "      <th>std</th>\n",
       "      <th>size</th>\n",
       "    </tr>\n",
       "    <tr>\n",
       "      <th>continent</th>\n",
       "      <th></th>\n",
       "      <th></th>\n",
       "      <th></th>\n",
       "    </tr>\n",
       "  </thead>\n",
       "  <tbody>\n",
       "    <tr>\n",
       "      <th>Africa</th>\n",
       "      <td>179.989695</td>\n",
       "      <td>812.148803</td>\n",
       "      <td>15332</td>\n",
       "    </tr>\n",
       "    <tr>\n",
       "      <th>Asia</th>\n",
       "      <td>1448.863760</td>\n",
       "      <td>9560.899804</td>\n",
       "      <td>14313</td>\n",
       "    </tr>\n",
       "    <tr>\n",
       "      <th>Europe</th>\n",
       "      <td>1783.304743</td>\n",
       "      <td>5020.494465</td>\n",
       "      <td>13408</td>\n",
       "    </tr>\n",
       "    <tr>\n",
       "      <th>North America(continent)</th>\n",
       "      <td>3390.453029</td>\n",
       "      <td>19128.794001</td>\n",
       "      <td>6834</td>\n",
       "    </tr>\n",
       "    <tr>\n",
       "      <th>South America(continent)</th>\n",
       "      <td>3669.935090</td>\n",
       "      <td>8827.038998</td>\n",
       "      <td>3605</td>\n",
       "    </tr>\n",
       "  </tbody>\n",
       "</table>\n",
       "</div>"
      ],
      "text/plain": [
       "                               dcases                     \n",
       "                                 mean           std   size\n",
       "continent                                                 \n",
       "Africa                     179.989695    812.148803  15332\n",
       "Asia                      1448.863760   9560.899804  14313\n",
       "Europe                    1783.304743   5020.494465  13408\n",
       "North America(continent)  3390.453029  19128.794001   6834\n",
       "South America(continent)  3669.935090   8827.038998   3605"
      ]
     },
     "execution_count": 205,
     "metadata": {},
     "output_type": "execute_result"
    }
   ],
   "source": [
    "dfcontinent=df[df['method1year']=='2020']\n",
    "stats=dfcontinent.groupby(\"continent\").agg({\"dcases\": [np.mean, np.std, np.size]})\n",
    "stats"
   ]
  },
  {
   "cell_type": "code",
   "execution_count": 206,
   "id": "cd8767a3",
   "metadata": {},
   "outputs": [
    {
     "data": {
      "text/plain": [
       "CategoricalIndex(['Africa', 'Asia', 'Europe', 'North America(continent)',\n",
       "                  'South America(continent)'],\n",
       "                 categories=['Africa', 'Asia', 'Europe', 'North America(continent)', 'South America(continent)'], ordered=True, dtype='category', name='continent')"
      ]
     },
     "execution_count": 206,
     "metadata": {},
     "output_type": "execute_result"
    }
   ],
   "source": [
    "stats.index"
   ]
  },
  {
   "cell_type": "code",
   "execution_count": 207,
   "id": "3846befd",
   "metadata": {},
   "outputs": [
    {
     "data": {
      "text/plain": [
       "[192.84649055020242,\n",
       " 1605.5148512234239,\n",
       " 1868.2947745278595,\n",
       " 3844.0883959580456,\n",
       " 3958.2164898249844]"
      ]
     },
     "execution_count": 207,
     "metadata": {},
     "output_type": "execute_result"
    }
   ],
   "source": [
    "ci95_hi = []\n",
    "ci95_lo = []\n",
    "for i in stats.index:\n",
    "    m, s, n = stats.loc[i]\n",
    "    x=scipy.stats.t.interval(.95, n-1, m,s/np.sqrt(n-1))\n",
    "    ci95_hi.append(x[1])\n",
    "    ci95_lo.append(x[0])\n",
    "ci95_hi"
   ]
  },
  {
   "cell_type": "code",
   "execution_count": 208,
   "id": "a0c5f772",
   "metadata": {},
   "outputs": [
    {
     "data": {
      "text/plain": [
       "[167.13289896192907,\n",
       " 1292.2126692125432,\n",
       " 1698.314712345649,\n",
       " 2936.8176619875208,\n",
       " 3381.6536904801474]"
      ]
     },
     "execution_count": 208,
     "metadata": {},
     "output_type": "execute_result"
    }
   ],
   "source": [
    "ci95_lo"
   ]
  },
  {
   "cell_type": "code",
   "execution_count": 209,
   "id": "3d91c6e1",
   "metadata": {},
   "outputs": [
    {
     "name": "stdout",
     "output_type": "stream",
     "text": [
      "                               dcases                           ci95_hi  \\\n",
      "                                 mean           std   size                \n",
      "continent                                                                 \n",
      "Africa                     179.989695    812.148803  15332   192.846491   \n",
      "Asia                      1448.863760   9560.899804  14313  1605.514851   \n",
      "Europe                    1783.304743   5020.494465  13408  1868.294775   \n",
      "North America(continent)  3390.453029  19128.794001   6834  3844.088396   \n",
      "South America(continent)  3669.935090   8827.038998   3605  3958.216490   \n",
      "\n",
      "                              ci95_lo  \n",
      "                                       \n",
      "continent                              \n",
      "Africa                     167.132899  \n",
      "Asia                      1292.212669  \n",
      "Europe                    1698.314712  \n",
      "North America(continent)  2936.817662  \n",
      "South America(continent)  3381.653690  \n"
     ]
    }
   ],
   "source": [
    "stats['ci95_hi'] = ci95_hi\n",
    "stats['ci95_lo'] = ci95_lo\n",
    "print(stats)"
   ]
  },
  {
   "cell_type": "code",
   "execution_count": 210,
   "id": "9ca1e515",
   "metadata": {},
   "outputs": [
    {
     "data": {
      "text/html": [
       "<div>\n",
       "<style scoped>\n",
       "    .dataframe tbody tr th:only-of-type {\n",
       "        vertical-align: middle;\n",
       "    }\n",
       "\n",
       "    .dataframe tbody tr th {\n",
       "        vertical-align: top;\n",
       "    }\n",
       "\n",
       "    .dataframe thead tr th {\n",
       "        text-align: left;\n",
       "    }\n",
       "\n",
       "    .dataframe thead tr:last-of-type th {\n",
       "        text-align: right;\n",
       "    }\n",
       "</style>\n",
       "<table border=\"1\" class=\"dataframe\">\n",
       "  <thead>\n",
       "    <tr>\n",
       "      <th></th>\n",
       "      <th colspan=\"3\" halign=\"left\">dcases</th>\n",
       "      <th>ci95_hi</th>\n",
       "      <th>ci95_lo</th>\n",
       "    </tr>\n",
       "    <tr>\n",
       "      <th></th>\n",
       "      <th>mean</th>\n",
       "      <th>std</th>\n",
       "      <th>size</th>\n",
       "      <th></th>\n",
       "      <th></th>\n",
       "    </tr>\n",
       "    <tr>\n",
       "      <th>continent</th>\n",
       "      <th></th>\n",
       "      <th></th>\n",
       "      <th></th>\n",
       "      <th></th>\n",
       "      <th></th>\n",
       "    </tr>\n",
       "  </thead>\n",
       "  <tbody>\n",
       "    <tr>\n",
       "      <th>Africa</th>\n",
       "      <td>179.989695</td>\n",
       "      <td>812.148803</td>\n",
       "      <td>15332</td>\n",
       "      <td>192.846491</td>\n",
       "      <td>167.132899</td>\n",
       "    </tr>\n",
       "    <tr>\n",
       "      <th>Asia</th>\n",
       "      <td>1448.863760</td>\n",
       "      <td>9560.899804</td>\n",
       "      <td>14313</td>\n",
       "      <td>1605.514851</td>\n",
       "      <td>1292.212669</td>\n",
       "    </tr>\n",
       "    <tr>\n",
       "      <th>Europe</th>\n",
       "      <td>1783.304743</td>\n",
       "      <td>5020.494465</td>\n",
       "      <td>13408</td>\n",
       "      <td>1868.294775</td>\n",
       "      <td>1698.314712</td>\n",
       "    </tr>\n",
       "    <tr>\n",
       "      <th>North America(continent)</th>\n",
       "      <td>3390.453029</td>\n",
       "      <td>19128.794001</td>\n",
       "      <td>6834</td>\n",
       "      <td>3844.088396</td>\n",
       "      <td>2936.817662</td>\n",
       "    </tr>\n",
       "    <tr>\n",
       "      <th>South America(continent)</th>\n",
       "      <td>3669.935090</td>\n",
       "      <td>8827.038998</td>\n",
       "      <td>3605</td>\n",
       "      <td>3958.216490</td>\n",
       "      <td>3381.653690</td>\n",
       "    </tr>\n",
       "  </tbody>\n",
       "</table>\n",
       "</div>"
      ],
      "text/plain": [
       "                               dcases                           ci95_hi  \\\n",
       "                                 mean           std   size                \n",
       "continent                                                                 \n",
       "Africa                     179.989695    812.148803  15332   192.846491   \n",
       "Asia                      1448.863760   9560.899804  14313  1605.514851   \n",
       "Europe                    1783.304743   5020.494465  13408  1868.294775   \n",
       "North America(continent)  3390.453029  19128.794001   6834  3844.088396   \n",
       "South America(continent)  3669.935090   8827.038998   3605  3958.216490   \n",
       "\n",
       "                              ci95_lo  \n",
       "                                       \n",
       "continent                              \n",
       "Africa                     167.132899  \n",
       "Asia                      1292.212669  \n",
       "Europe                    1698.314712  \n",
       "North America(continent)  2936.817662  \n",
       "South America(continent)  3381.653690  "
      ]
     },
     "execution_count": 210,
     "metadata": {},
     "output_type": "execute_result"
    }
   ],
   "source": [
    "df_ci= pd.DataFrame(stats)\n",
    "df_ci"
   ]
  },
  {
   "cell_type": "code",
   "execution_count": 214,
   "id": "6bcc70f1",
   "metadata": {},
   "outputs": [
    {
     "data": {
      "text/html": [
       "<div>\n",
       "<style scoped>\n",
       "    .dataframe tbody tr th:only-of-type {\n",
       "        vertical-align: middle;\n",
       "    }\n",
       "\n",
       "    .dataframe tbody tr th {\n",
       "        vertical-align: top;\n",
       "    }\n",
       "\n",
       "    .dataframe thead tr th {\n",
       "        text-align: left;\n",
       "    }\n",
       "\n",
       "    .dataframe thead tr:last-of-type th {\n",
       "        text-align: right;\n",
       "    }\n",
       "</style>\n",
       "<table border=\"1\" class=\"dataframe\">\n",
       "  <thead>\n",
       "    <tr>\n",
       "      <th></th>\n",
       "      <th colspan=\"3\" halign=\"left\">dcases</th>\n",
       "      <th>ci95_hi</th>\n",
       "      <th>ci95_lo</th>\n",
       "      <th>continent</th>\n",
       "    </tr>\n",
       "    <tr>\n",
       "      <th></th>\n",
       "      <th>mean</th>\n",
       "      <th>std</th>\n",
       "      <th>size</th>\n",
       "      <th></th>\n",
       "      <th></th>\n",
       "      <th></th>\n",
       "    </tr>\n",
       "    <tr>\n",
       "      <th>continent</th>\n",
       "      <th></th>\n",
       "      <th></th>\n",
       "      <th></th>\n",
       "      <th></th>\n",
       "      <th></th>\n",
       "      <th></th>\n",
       "    </tr>\n",
       "  </thead>\n",
       "  <tbody>\n",
       "    <tr>\n",
       "      <th>Africa</th>\n",
       "      <td>179.989695</td>\n",
       "      <td>812.148803</td>\n",
       "      <td>15332</td>\n",
       "      <td>192.846491</td>\n",
       "      <td>167.132899</td>\n",
       "      <td>Africa</td>\n",
       "    </tr>\n",
       "    <tr>\n",
       "      <th>Asia</th>\n",
       "      <td>1448.863760</td>\n",
       "      <td>9560.899804</td>\n",
       "      <td>14313</td>\n",
       "      <td>1605.514851</td>\n",
       "      <td>1292.212669</td>\n",
       "      <td>Asia</td>\n",
       "    </tr>\n",
       "    <tr>\n",
       "      <th>Europe</th>\n",
       "      <td>1783.304743</td>\n",
       "      <td>5020.494465</td>\n",
       "      <td>13408</td>\n",
       "      <td>1868.294775</td>\n",
       "      <td>1698.314712</td>\n",
       "      <td>Europe</td>\n",
       "    </tr>\n",
       "    <tr>\n",
       "      <th>North America(continent)</th>\n",
       "      <td>3390.453029</td>\n",
       "      <td>19128.794001</td>\n",
       "      <td>6834</td>\n",
       "      <td>3844.088396</td>\n",
       "      <td>2936.817662</td>\n",
       "      <td>North America(continent)</td>\n",
       "    </tr>\n",
       "    <tr>\n",
       "      <th>South America(continent)</th>\n",
       "      <td>3669.935090</td>\n",
       "      <td>8827.038998</td>\n",
       "      <td>3605</td>\n",
       "      <td>3958.216490</td>\n",
       "      <td>3381.653690</td>\n",
       "      <td>South America(continent)</td>\n",
       "    </tr>\n",
       "  </tbody>\n",
       "</table>\n",
       "</div>"
      ],
      "text/plain": [
       "                               dcases                           ci95_hi  \\\n",
       "                                 mean           std   size                \n",
       "continent                                                                 \n",
       "Africa                     179.989695    812.148803  15332   192.846491   \n",
       "Asia                      1448.863760   9560.899804  14313  1605.514851   \n",
       "Europe                    1783.304743   5020.494465  13408  1868.294775   \n",
       "North America(continent)  3390.453029  19128.794001   6834  3844.088396   \n",
       "South America(continent)  3669.935090   8827.038998   3605  3958.216490   \n",
       "\n",
       "                              ci95_lo                 continent  \n",
       "                                                                 \n",
       "continent                                                        \n",
       "Africa                     167.132899                    Africa  \n",
       "Asia                      1292.212669                      Asia  \n",
       "Europe                    1698.314712                    Europe  \n",
       "North America(continent)  2936.817662  North America(continent)  \n",
       "South America(continent)  3381.653690  South America(continent)  "
      ]
     },
     "execution_count": 214,
     "metadata": {},
     "output_type": "execute_result"
    }
   ],
   "source": [
    "df_ci['continent']=df_ci.index\n",
    "df_ci"
   ]
  },
  {
   "cell_type": "code",
   "execution_count": 217,
   "id": "26dd4503",
   "metadata": {},
   "outputs": [
    {
     "data": {
      "text/plain": [
       "([<matplotlib.axis.YTick at 0x11ab01019a0>,\n",
       "  <matplotlib.axis.YTick at 0x11ab00e29a0>,\n",
       "  <matplotlib.axis.YTick at 0x11ab6a37f70>,\n",
       "  <matplotlib.axis.YTick at 0x11ab3528820>,\n",
       "  <matplotlib.axis.YTick at 0x11ab3528f10>],\n",
       " [Text(0, 0, 'Africa'),\n",
       "  Text(0, 1, 'Asia'),\n",
       "  Text(0, 2, 'Europe'),\n",
       "  Text(0, 3, 'North America(continent)'),\n",
       "  Text(0, 4, 'South America(continent)')])"
      ]
     },
     "execution_count": 217,
     "metadata": {},
     "output_type": "execute_result"
    },
    {
     "data": {
      "image/png": "[encoded data removed]",
      "text/plain": [
       "<Figure size 432x288 with 1 Axes>"
      ]
     },
     "metadata": {
      "needs_background": "light"
     },
     "output_type": "display_data"
    }
   ],
   "source": [
    "import matplotlib.pyplot as plt\n",
    "for lb,ub,y in zip(df_ci['ci95_lo'],df_ci['ci95_hi'],range(len(df_ci))):\n",
    "    plt.plot((lb,ub),(y,y),'ro-')\n",
    "plt.yticks(range(len(df_ci)),list(df_ci['continent']))\n"
   ]
  },
  {
   "cell_type": "code",
   "execution_count": null,
   "id": "fa480797",
   "metadata": {},
   "outputs": [],
   "source": []
  }
 ],
 "metadata": {
  "kernelspec": {
   "display_name": "Python 3 (ipykernel)",
   "language": "python",
   "name": "python3"
  },
  "language_info": {
   "codemirror_mode": {
    "name": "ipython",
    "version": 3
   },
   "file_extension": ".py",
   "mimetype": "text/x-python",
   "name": "python",
   "nbconvert_exporter": "python",
   "pygments_lexer": "ipython3",
   "version": "3.9.7"
  }
 },
 "nbformat": 4,
 "nbformat_minor": 5
}
